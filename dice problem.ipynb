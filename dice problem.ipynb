{
 "cells": [
  {
   "cell_type": "code",
   "execution_count": 9,
   "metadata": {},
   "outputs": [
    {
     "name": "stdout",
     "output_type": "stream",
     "text": [
      "0.5680373618261875\n"
     ]
    }
   ],
   "source": [
    "#dice problem\n",
    "\n",
    "import random\n",
    "x = random.random()\n",
    "print(x)"
   ]
  },
  {
   "cell_type": "code",
   "execution_count": 12,
   "metadata": {},
   "outputs": [
    {
     "name": "stdout",
     "output_type": "stream",
     "text": [
      "5\n"
     ]
    }
   ],
   "source": [
    "#import random\n",
    "x = random.randint(1,6)\n",
    "print(x)"
   ]
  },
  {
   "cell_type": "code",
   "execution_count": 30,
   "metadata": {},
   "outputs": [
    {
     "name": "stdout",
     "output_type": "stream",
     "text": [
      "This is a ice stimulator\n",
      "----------\n",
      "|0       0|\n",
      "|         |\n",
      "|0       0|\n",
      "----------\n",
      "Press y to roll it againy\n",
      "----------\n",
      "|0       0|\n",
      "|    0    |\n",
      "|0       0|\n",
      "----------\n",
      "----------\n",
      "|0   0   0|\n",
      "|         |\n",
      "|0   0   0|\n",
      "----------\n",
      "Press y to roll it againy\n",
      "----------\n",
      "|0       0|\n",
      "|    0    |\n",
      "|0       0|\n",
      "----------\n",
      "----------\n",
      "|0   0   0|\n",
      "|         |\n",
      "|0   0   0|\n",
      "----------\n",
      "Press y to roll it againy\n",
      "----------\n",
      "|         |\n",
      "|0   0   0|\n",
      "|         |\n",
      "----------\n",
      "Press y to roll it againy\n",
      "----------\n",
      "|         |\n",
      "|0       0|\n",
      "|         |\n",
      "----------\n",
      "Press y to roll it againd\n"
     ]
    }
   ],
   "source": [
    "#what about the dice\n",
    "\n",
    "import random\n",
    "print(\"This is a dice stimulator\")\n",
    "x = \"y\"\n",
    "\n",
    "while x == \"y\":\n",
    "    number = random.randint(1,6)\n",
    "\n",
    "    if number ==1:\n",
    "        print(\"----------\")\n",
    "        print(\"|         |\")\n",
    "        print(\"|    0    |\")\n",
    "        print(\"|         |\")\n",
    "        print(\"----------\")\n",
    "    \n",
    "    if number ==2:\n",
    "        print(\"----------\")\n",
    "        print(\"|         |\")\n",
    "        print(\"|0       0|\")\n",
    "        print(\"|         |\")\n",
    "        print(\"----------\")\n",
    "\n",
    "    if number ==3:\n",
    "        print(\"----------\")\n",
    "        print(\"|         |\")\n",
    "        print(\"|0   0   0|\")\n",
    "        print(\"|         |\")\n",
    "        print(\"----------\")\n",
    "\n",
    "    if number ==4:\n",
    "        print(\"----------\")\n",
    "        print(\"|0       0|\")\n",
    "        print(\"|         |\")\n",
    "        print(\"|0       0|\")\n",
    "        print(\"----------\")\n",
    "    \n",
    "    if number ==5:\n",
    "        print(\"----------\")\n",
    "        print(\"|0       0|\")\n",
    "        print(\"|    0    |\")\n",
    "        print(\"|0       0|\")\n",
    "        print(\"----------\")\n",
    "    \n",
    "    if number ==5:\n",
    "        print(\"----------\")\n",
    "        print(\"|0   0   0|\")\n",
    "        print(\"|         |\")\n",
    "        print(\"|0   0   0|\")\n",
    "        print(\"----------\")\n",
    "\n",
    "    x = input(\"Press y to roll it again\")"
   ]
  },
  {
   "cell_type": "code",
   "execution_count": null,
   "metadata": {},
   "outputs": [],
   "source": []
  },
  {
   "cell_type": "code",
   "execution_count": null,
   "metadata": {},
   "outputs": [],
   "source": []
  }
 ],
 "metadata": {
  "kernelspec": {
   "display_name": "Python 3",
   "language": "python",
   "name": "python3"
  },
  "language_info": {
   "codemirror_mode": {
    "name": "ipython",
    "version": 3
   },
   "file_extension": ".py",
   "mimetype": "text/x-python",
   "name": "python",
   "nbconvert_exporter": "python",
   "pygments_lexer": "ipython3",
   "version": "3.7.3"
  }
 },
 "nbformat": 4,
 "nbformat_minor": 2
}
